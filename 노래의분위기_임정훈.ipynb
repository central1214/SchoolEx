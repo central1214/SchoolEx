a = '''Baby 네게 반해버린 내게 왜 이래
두렵다고 물러서지 말고
그냥 내게 맡겨봐라 어때 My lady

Ring Ding Dong Ring Ding Dong
Ring Diggi Ding Diggi Ding Ding Ding
Ring Ding Dong Ring Ding Dong
Ring Diggi Ding Diggi Ding Ding Ding

Ring Ding Dong Ring Ding Dong
Ring Diggi Ding Diggi Ding Ding Ding
Ring Ding Dong Ring Ding Dong
Ring Diggi Ding Diggi Ding Ding Ding

Butterfly 너를 만난 첫 순간
눈이 번쩍 머린 Stop, 벨이 딩동 울렸어
난 말야 멋진놈 착한놈 그런놈은 아니지만
나름대로 괜찮은 Bad boy
너는 마치 Butterfly 너무 약해 빠졌어
너무 순해 빠졌어 널 곁에 둬야겠어
더는 걱정마 걱정마 나만 믿어보면 되잖아
니가 너무 맘에 들어 놓칠 수 없는 걸

Baby 내 가슴을 멈출 수 oh crazy
너무 예뻐 견딜 수 oh crazy
너 아니면 필요 없다 crazy 나 왜이래
We wanna go rocka, rocka, rocka
rocka, rocka rock (so fantastic)
Go rocka, rocka, rocka
rocka, rocka, rock (so elastic)

fantastic fantastic fantastic fantastic
elastic elastic elastic elastic
Ring Ding Dong Ring Ding Dong
Ring Diggi Ding Diggi Ding Ding Ding
오직 너만 들린다
Ring Ding Dong Ring Ding Dong
Ring Diggi Ding Diggi Ding Ding Ding
머릿 속에 울린다

Ring Ding Dong Ring Ding Dong
Ring Diggi Ding Diggi Ding Ding Ding
내 가슴에 울린다
Ring Ding Dong Ring Ding Dong
Ring Diggi Ding Diggi Ding Ding Ding

I called you butterfly! 날이 가면 갈 수록
못이 박혀 너란 Girl, 헤어날 수 없다는 거
나를 선택해
돌이키지 말고
선택해
도망가지 말고
네게 빠진 바보인 나
날 책임져야 돼

Baby 내 가슴을 멈출 수 oh crazy
너무 예뻐 견딜 수 oh crazy
너 아니면 필요없다 crazy
나 왜 이래

난 착하디 착한 증후군이 걸린 너를 이해 못하겠다
넌 가끔씩 그런 고정 이미지를 탈피 일탈해 봐 괜찮다
Break out (Hey!) Break out (Hey!)
Break out (Hey!) Break out (Hey!)
Ring Ding Ding Ding Ding Di Di Di Di Di Di Di
Dong Dong Dong Dong Dong Dong Dong Dong

사실 난 불안해 어떻게 날 보는지
어쩌면 어쩌면 내게 호감을 갖고 있는지 몰라
이토록 안절부절 할 수 밖에 없어
돌이 킬 수 없는걸'''
a = a.replace('\n',' ')
a = a.replace('(',' ')
a = a.replace(')',' ')
a = a.split(' ')

dict={}
for i in a :
    dict[i]= a.count(i)
sorted_dict= sorted(dict.items(), key=lambda x: x[1], reverse = True)
print(sorted_dict)
print('''많이 나온 대부분의 단어들이 그저 흥을 돋는 의미 없는 의성어들이고 
      그 후 의미를 가지는 단어가 crazy부터 fantastic,elastic이 나오는 것을 보니 뭔가 미친듯이 
      신나려고 하는 노래인 듯 하다.''')