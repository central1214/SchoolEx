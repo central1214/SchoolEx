{
 "cells": [
  {
   "cell_type": "code",
   "execution_count": 118,
   "metadata": {
    "scrolled": false
   },
   "outputs": [
    {
     "name": "stdout",
     "output_type": "stream",
     "text": [
      "{20200121.0: array([1.0000e+00, 5.0600e+02, 2.0000e+00, 4.6700e+02, 4.3801e+04,\n",
      "       5.0417e+04, 6.0000e+00])}\n"
     ]
    },
    {
     "name": "stderr",
     "output_type": "stream",
     "text": [
      "<ipython-input-118-2ccc280d3394>:13: DeprecationWarning: The truth value of an empty array is ambiguous. Returning False, but in future this will result in an error. Use `array.size > 0` to check that an array is not empty.\n",
      "  if x[:0] == temp :\n",
      "<ipython-input-118-2ccc280d3394>:13: DeprecationWarning: elementwise comparison failed; this will raise an error in the future.\n",
      "  if x[:0] == temp :\n"
     ]
    },
    {
     "data": {
      "text/plain": [
       "[<matplotlib.lines.Line2D at 0x1b41a352df0>]"
      ]
     },
     "execution_count": 118,
     "metadata": {},
     "output_type": "execute_result"
    },
    {
     "data": {
      "image/png": "[encoded data removed]",
      "text/plain": [
       "<Figure size 432x288 with 1 Axes>"
      ]
     },
     "metadata": {
      "needs_background": "light"
     },
     "output_type": "display_data"
    }
   ],
   "source": [
    "import pandas as pd\n",
    "import numpy as np\n",
    "import matplotlib.pyplot as plt\n",
    "\n",
    "corona = pd.read_csv('kr_daily.csv',encoding = 'cp949')\n",
    "data_corona = pd.DataFrame(corona)\n",
    "# plt.rcParams['font.family'] = 'NanumGothic'\n",
    "# plt.figure(figsize = (15,7))\n",
    "dic = {}\n",
    "c = corona.values\n",
    "temp = 0\n",
    "for x in c :\n",
    "    if x[:0] == temp :\n",
    "        dic[c[count,0]] = 0\n",
    "    else :\n",
    "        dic[c[count,0]] = x - temp\n",
    "    temp = x\n",
    "        \n",
    "print(dic)\n",
    "plt.plot(c[:,0],c[:,4])\n"
   ]
  }
 ],
 "metadata": {
  "kernelspec": {
   "display_name": "Python 3",
   "language": "python",
   "name": "python3"
  },
  "language_info": {
   "codemirror_mode": {
    "name": "ipython",
    "version": 3
   },
   "file_extension": ".py",
   "mimetype": "text/x-python",
   "name": "python",
   "nbconvert_exporter": "python",
   "pygments_lexer": "ipython3",
   "version": "3.8.5"
  }
 },
 "nbformat": 4,
 "nbformat_minor": 4
}
