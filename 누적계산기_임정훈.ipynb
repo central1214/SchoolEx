def Plus(num1,num2):
    z = num1+num2
    return z
def Min(num1,num2):
    z = num1 - num2
    return z
def Mul(num1,num2):
    z = num1 * num2
    return z
def Div(num1,num2):
    z = num1 / num2
    return z

def Cal(opt) :
    if opt == '1':       
        c = int(input('정수입력'))        
        print(Plus(z,c))
        return Plus(z,c)
    elif opt == '2':
        c = int(input('정수입력'))
        print(Min(z,c))
        return Min(z,c)
    elif opt == '3':
        c = int(input('정수입력'))
        print(Mul(z,c))
        return Mul(z,c)
    else :
        c = int(input('정수입력'))
        print(Div(z,c))
        return Div(z,c)
        
z = int(input('정수 입력'))
a = 0
while True :
    u = input('[1. + ] [2. -] [3. X] [4. /] [q. quit]')
    if u == 'q':
        break
    if u == 'del' :
        z = 0
    else :       
        z = Cal(u)   
    