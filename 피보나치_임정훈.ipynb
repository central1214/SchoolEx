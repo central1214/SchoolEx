def pibonacci(numb) :
    T1 = 1
    T2 = 1
    pibo = 0
    for x in range(numb):
        T2 = T1
        T1 = pibo
        pibo = T1 + T2
        print(x+1,'번째 피보나치 수는 : ',pibo,' ')
b = int(input('몇번째 수열?'))
pibonacci(b)
    