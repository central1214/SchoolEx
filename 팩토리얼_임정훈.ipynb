#1
def factorial(input) :
    if input > 1 :
        return input * factorial(input-1)
    else :
        return 1;
a = int(input('정수 입력'))
factorial(a)

#2
def facto(num) :
    total = 1
    for x in range(1,num) :
        print(x,'X ',end='')
        total *= x
    print(x+1,'=',(x+1)*total)
        
a = int(input())
facto(a)