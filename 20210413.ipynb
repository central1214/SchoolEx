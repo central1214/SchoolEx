{
 "cells": [
  {
   "cell_type": "code",
   "execution_count": 32,
   "metadata": {},
   "outputs": [
    {
     "name": "stdout",
     "output_type": "stream",
     "text": [
      "{'Chapman': 'Graham', 'Cleese': ['John', 'dkdk'], 'Gilliam': 'Terry', 'Idle': 'Eric', 'Jones': 'Terry', 'Palin': 'Michael', 'Lim': 'Jung Hoon', 'Ez': 'real'}\n",
      "{'Chapman': 'Graham', 'Cleese': ['John', 'dkdk'], 'Gilliam': 'Terry', 'Idle': 'Eric', 'Jones': 'Terry', 'Palin': 'Michael', 'Lim': 'Jung Hoon'}\n",
      "{'Chapman': 'Graham', 'Cleese': ['John', 'dkdk'], 'Gilliam': 'Terry', 'Idle': 'Eric', 'Jones': 'Terry', 'Palin': 'Michael'}\n"
     ]
    }
   ],
   "source": [
    "import copy\n",
    "pythons = {\n",
    "    'Chapman' : 'Graham',\n",
    "    'Cleese' : ['John','dkdk'],\n",
    "    'Gilliam' : 'Terry',\n",
    "    'Idle' : 'Eric',\n",
    "    'Jones' : 'Terry',\n",
    "    'Palin' : 'Michael',\n",
    "}\n",
    "others = {'Lim' : 'Jung Hoon','Ez' : 'real'}\n",
    "pythons.update(others)\n",
    "print(pythons)\n",
    "del pythons['Ez']\n",
    "print(pythons)\n",
    "pythons.pop('Lim')\n",
    "pythons.pop('Lim','lalal')\n",
    "'Idle' in pythons\n",
    "python = copy.deepcopy(pythons)\n",
    "python['Cleese'][1] = 'yoyo'\n",
    "print(pythons)"
   ]
  },
  {
   "cell_type": "code",
   "execution_count": 69,
   "metadata": {},
   "outputs": [
    {
     "name": "stdout",
     "output_type": "stream",
     "text": [
      "morse\n"
     ]
    },
    {
     "ename": "RuntimeError",
     "evalue": "dictionary changed size during iteration",
     "output_type": "error",
     "traceback": [
      "\u001b[1;31m---------------------------------------------------------------------------\u001b[0m",
      "\u001b[1;31mRuntimeError\u001b[0m                              Traceback (most recent call last)",
      "\u001b[1;32m<ipython-input-69-8e96048d7850>\u001b[0m in \u001b[0;36m<module>\u001b[1;34m\u001b[0m\n\u001b[0;32m      6\u001b[0m \u001b[1;32mfor\u001b[0m \u001b[0mx\u001b[0m \u001b[1;32min\u001b[0m \u001b[0mrange\u001b[0m\u001b[1;33m(\u001b[0m\u001b[0mlen\u001b[0m\u001b[1;33m(\u001b[0m\u001b[0me2f\u001b[0m\u001b[1;33m)\u001b[0m\u001b[1;33m)\u001b[0m \u001b[1;33m:\u001b[0m\u001b[1;33m\u001b[0m\u001b[1;33m\u001b[0m\u001b[0m\n\u001b[0;32m      7\u001b[0m     \u001b[0mf2e\u001b[0m\u001b[1;33m[\u001b[0m\u001b[0ma\u001b[0m\u001b[1;33m[\u001b[0m\u001b[0mx\u001b[0m\u001b[1;33m]\u001b[0m\u001b[1;33m[\u001b[0m\u001b[1;36m1\u001b[0m\u001b[1;33m]\u001b[0m\u001b[1;33m]\u001b[0m \u001b[1;33m=\u001b[0m \u001b[0ma\u001b[0m\u001b[1;33m[\u001b[0m\u001b[0mx\u001b[0m\u001b[1;33m]\u001b[0m\u001b[1;33m[\u001b[0m\u001b[1;36m0\u001b[0m\u001b[1;33m]\u001b[0m\u001b[1;33m\u001b[0m\u001b[1;33m\u001b[0m\u001b[0m\n\u001b[1;32m----> 8\u001b[1;33m \u001b[1;32mfor\u001b[0m \u001b[0mc\u001b[0m\u001b[1;33m,\u001b[0m \u001b[0mb\u001b[0m \u001b[1;32min\u001b[0m \u001b[0me2f\u001b[0m\u001b[1;33m.\u001b[0m\u001b[0mitems\u001b[0m\u001b[1;33m(\u001b[0m\u001b[1;33m)\u001b[0m \u001b[1;33m:\u001b[0m \u001b[1;31m#for문으로 key,value값 뽑는 거 연습!\u001b[0m\u001b[1;33m\u001b[0m\u001b[1;33m\u001b[0m\u001b[0m\n\u001b[0m\u001b[0;32m      9\u001b[0m     \u001b[0me2f\u001b[0m\u001b[1;33m[\u001b[0m\u001b[0mb\u001b[0m\u001b[1;33m]\u001b[0m\u001b[1;33m=\u001b[0m\u001b[0mc\u001b[0m\u001b[1;33m\u001b[0m\u001b[1;33m\u001b[0m\u001b[0m\n\u001b[0;32m     10\u001b[0m \u001b[0mprint\u001b[0m\u001b[1;33m(\u001b[0m\u001b[0me2f\u001b[0m\u001b[1;33m[\u001b[0m\u001b[1;34m'dog'\u001b[0m\u001b[1;33m]\u001b[0m\u001b[1;33m)\u001b[0m\u001b[1;33m\u001b[0m\u001b[1;33m\u001b[0m\u001b[0m\n",
      "\u001b[1;31mRuntimeError\u001b[0m: dictionary changed size during iteration"
     ]
    }
   ],
   "source": [
    "#ex8.1~\n",
    "e2f = dict(dog=\"chien\", cat=\"chat\" ,walrus=\"morse\")\n",
    "print(e2f['walrus'])\n",
    "a= list(e2f.items())\n",
    "f2e = {}\n",
    "for x in range(len(e2f)) :\n",
    "    f2e[a[x][1]] = a[x][0]\n",
    "for c, b in e2f.items() : #for문으로 key,value값 뽑는 거 연습!\n",
    "    e2f[b]=c\n",
    "print(e2f['dog'])\n",
    "print(e2f.keys())\n",
    "#8.6~\n",
    "life = {\n",
    "    'animals' : {\n",
    "        'cats' : 'henry',\n",
    "        'octpi' : 'Grumpy',\n",
    "        'emus' : 'Lucy'\n",
    "    },\n",
    "    'plants' : {},\n",
    "    'other' : {},\n",
    "}\n",
    "print(life.keys())\n",
    "print(life['animals'].keys())\n",
    "print(life['animals']['cats'])\n",
    "\n",
    "squares = {x : x * x for x in range(10)}\n",
    "print(squares)"
   ]
  },
  {
   "cell_type": "code",
   "execution_count": 83,
   "metadata": {},
   "outputs": [
    {
     "data": {
      "text/plain": [
       "2"
      ]
     },
     "execution_count": 83,
     "metadata": {},
     "output_type": "execute_result"
    }
   ],
   "source": [
    "empty_set = set()\n",
    "even_numbers = {0,2,4,6,8}\n",
    "even_numbers\n",
    "odd_numbers = {1,3,5,7,9}\n",
    "odd_numbers\n",
    "set(['ezreal','misfortune','morgana','sin_zhao','sin_zhao'])\n",
    "set(('ezreal','misfortune','morgana','sin_zhao','sin_zhao'))\n",
    "champion = set({'ezreal' : 'misfortune','morgana' :'sin_zhao'})\n",
    "len(champion)\n"
   ]
  },
  {
   "cell_type": "code",
   "execution_count": 109,
   "metadata": {},
   "outputs": [
    {
     "name": "stdout",
     "output_type": "stream",
     "text": [
      "black russian\n",
      "screwdriver\n"
     ]
    }
   ],
   "source": [
    "drinks = {\n",
    "    'martini' : {'vodka','vermouth'},\n",
    "    'black russian' : {'vodka','kahlua'},\n",
    "    'white russian' : {'vodka','cream','kahlua',},\n",
    "    'manhattan' : {'rye','vermouth','bitters'},\n",
    "    'screwdriver' : {'orange juice','vodka'}\n",
    "}\n",
    "\n",
    "\n",
    "        \n",
    "for name,source in drinks.items() :\n",
    "    if 'vodka' in source and not 'cream' in source and not 'vermouth' in source :\n",
    "        print(name)\n",
    "        \n"
   ]
  },
  {
   "cell_type": "code",
   "execution_count": 125,
   "metadata": {},
   "outputs": [
    {
     "name": "stdout",
     "output_type": "stream",
     "text": [
      "black russian\n",
      "screwdriver\n"
     ]
    },
    {
     "data": {
      "text/plain": [
       "True"
      ]
     },
     "execution_count": 125,
     "metadata": {},
     "output_type": "execute_result"
    }
   ],
   "source": [
    "for name, source in drinks.items() : \n",
    "    if source & {'vodka'} and not source & {'cream','vermouth'} :\n",
    "        print(name)\n",
    "        \n",
    "bruss = drinks['black russian']\n",
    "wruss = drinks['white russian']\n",
    "a = {1, 2, 3}\n",
    "b = {2, 3}\n",
    "a & b\n",
    "a.intersection(b)\n",
    "\n",
    "bruss.intersection(wruss)\n",
    "bruss.union(wruss)\n",
    "bruss | wruss\n",
    "a - b\n",
    "bruss -  wruss\n",
    "wruss - bruss\n",
    "a ^ b\n",
    "bruss ^ wruss\n",
    "a <= b\n",
    "b < a\n",
    "bruss < wruss"
   ]
  },
  {
   "cell_type": "code",
   "execution_count": 126,
   "metadata": {},
   "outputs": [
    {
     "name": "stdout",
     "output_type": "stream",
     "text": [
      "{1, 3, 5, 7, 9}\n"
     ]
    }
   ],
   "source": [
    "#8.11\n",
    "hol = {num for num in range(10) if num % 2 ==1}\n",
    "print(hol)\n",
    "for x in  "
   ]
  }
 ],
 "metadata": {
  "kernelspec": {
   "display_name": "Python 3",
   "language": "python",
   "name": "python3"
  },
  "language_info": {
   "codemirror_mode": {
    "name": "ipython",
    "version": 3
   },
   "file_extension": ".py",
   "mimetype": "text/x-python",
   "name": "python",
   "nbconvert_exporter": "python",
   "pygments_lexer": "ipython3",
   "version": "3.8.5"
  }
 },
 "nbformat": 4,
 "nbformat_minor": 4
}
